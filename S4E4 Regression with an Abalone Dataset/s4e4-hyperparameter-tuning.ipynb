{
 "cells": [
  {
   "cell_type": "markdown",
   "id": "f603cecb",
   "metadata": {
    "papermill": {
     "duration": 0.004395,
     "end_time": "2024-04-04T17:23:00.194903",
     "exception": false,
     "start_time": "2024-04-04T17:23:00.190508",
     "status": "completed"
    },
    "tags": []
   },
   "source": [
    "# S4E4 Hyperparameter Tuning"
   ]
  },
  {
   "cell_type": "markdown",
   "id": "9ed375a6",
   "metadata": {
    "papermill": {
     "duration": 0.004045,
     "end_time": "2024-04-04T17:23:00.203527",
     "exception": false,
     "start_time": "2024-04-04T17:23:00.199482",
     "status": "completed"
    },
    "tags": []
   },
   "source": [
    "## Imports and Reading in Data"
   ]
  },
  {
   "cell_type": "code",
   "execution_count": null,
   "id": "f644cfa0",
   "metadata": {
    "execution": {
     "iopub.execute_input": "2024-04-04T17:23:00.213975Z",
     "iopub.status.busy": "2024-04-04T17:23:00.213208Z",
     "iopub.status.idle": "2024-04-04T17:23:04.143560Z",
     "shell.execute_reply": "2024-04-04T17:23:04.142392Z"
    },
    "papermill": {
     "duration": 3.938588,
     "end_time": "2024-04-04T17:23:04.146196",
     "exception": false,
     "start_time": "2024-04-04T17:23:00.207608",
     "status": "completed"
    },
    "tags": []
   },
   "outputs": [],
   "source": [
    "import numpy as np \n",
    "import pandas as pd \n",
    "import optuna\n",
    "import lightgbm as lgb\n",
    "import xgboost as xgb\n",
    "import catboost as cb\n",
    "from sklearn.preprocessing import StandardScaler\n",
    "from sklearn.model_selection import train_test_split, KFold\n",
    "from sklearn.metrics import mean_squared_log_error\n",
    "from sklearn.ensemble import RandomForestRegressor\n",
    "from sklearn.neighbors import KNeighborsRegressor\n",
    "\n",
    "\n",
    "N_TRIALS = 300\n",
    "\n",
    "# save the output into a file \n",
    "output = \"\""
   ]
  },
  {
   "cell_type": "code",
   "execution_count": null,
   "id": "091bd6ba",
   "metadata": {
    "execution": {
     "iopub.execute_input": "2024-04-04T17:23:04.155777Z",
     "iopub.status.busy": "2024-04-04T17:23:04.155222Z",
     "iopub.status.idle": "2024-04-04T17:23:04.374558Z",
     "shell.execute_reply": "2024-04-04T17:23:04.373473Z"
    },
    "papermill": {
     "duration": 0.2268,
     "end_time": "2024-04-04T17:23:04.377045",
     "exception": false,
     "start_time": "2024-04-04T17:23:04.150245",
     "status": "completed"
    },
    "tags": []
   },
   "outputs": [],
   "source": [
    "data = pd.read_csv('data/feature_reduced_new_train.csv', index_col='id')\n",
    "\n",
    "data.head()\n",
    "\n",
    "X = data.drop(['Rings'], axis=1)\n",
    "y = data['Rings']\n",
    "\n",
    "X = pd.get_dummies(X)\n",
    "\n",
    "X_train, X_test, y_train, y_test = train_test_split(X, y, test_size=0.2, random_state=42)\n",
    "\n",
    "# Define RMSLE as a scorer\n",
    "def rmsle(y_true, y_pred):\n",
    "    # Ensure predictions are non-negative since we can't take log of negative numbers\n",
    "    y_pred[y_pred < 0] = 0\n",
    "    return np.sqrt(mean_squared_log_error(y_true, y_pred))"
   ]
  },
  {
   "cell_type": "markdown",
   "id": "b34ed951",
   "metadata": {
    "papermill": {
     "duration": 0.003586,
     "end_time": "2024-04-04T17:23:04.384552",
     "exception": false,
     "start_time": "2024-04-04T17:23:04.380966",
     "status": "completed"
    },
    "tags": []
   },
   "source": [
    "## Optimize a LightGBM Regressor"
   ]
  },
  {
   "cell_type": "code",
   "execution_count": null,
   "id": "3e576663",
   "metadata": {
    "execution": {
     "iopub.execute_input": "2024-04-04T17:23:04.394139Z",
     "iopub.status.busy": "2024-04-04T17:23:04.393331Z",
     "iopub.status.idle": "2024-04-04T17:59:56.100321Z",
     "shell.execute_reply": "2024-04-04T17:59:56.099321Z"
    },
    "papermill": {
     "duration": 2211.714312,
     "end_time": "2024-04-04T17:59:56.102614",
     "exception": false,
     "start_time": "2024-04-04T17:23:04.388302",
     "status": "completed"
    },
    "tags": []
   },
   "outputs": [],
   "source": [
    "def objective(trial):\n",
    "    param = {\n",
    "        'objective': 'regression',\n",
    "        'metric': 'rmse',\n",
    "        'verbosity': -1,\n",
    "        'boosting_type': 'gbdt',\n",
    "        'learning_rate': trial.suggest_float('learning_rate', 0.01, 0.3),\n",
    "        'n_estimators': trial.suggest_int('n_estimators', 100, 1000),\n",
    "        'max_depth': trial.suggest_int('max_depth', 3, 20),\n",
    "        'num_leaves': trial.suggest_int('num_leaves', 20, 300),\n",
    "        'min_child_samples': trial.suggest_int('min_child_samples', 5, 100),\n",
    "        'subsample': trial.suggest_float('subsample', 0.5, 1.0),\n",
    "        'colsample_bytree': trial.suggest_float('colsample_bytree', 0.5, 1.0),\n",
    "    }\n",
    "    \n",
    "    # Create and train LightGBM model\n",
    "    model = lgb.LGBMRegressor(**param)\n",
    "    model.fit(X_train, y_train, eval_set=[(X_test, y_test)])\n",
    "    \n",
    "    preds = model.predict(X_test)\n",
    "    \n",
    "    # Calculate and return RMSLE\n",
    "    return rmsle(y_test, preds)\n",
    "\n",
    "# Create a study object and specify the direction as 'minimize'\n",
    "study = optuna.create_study(direction='minimize')\n",
    "study.optimize(objective, n_trials=N_TRIALS)\n",
    "\n",
    "output = output + \"LGBM Model with \" + str(study.best_trial.value) + \"\\n\"\n",
    "output = output + \"Best hyperparameters:\" + str(study.best_params) + \"\\n\""
   ]
  },
  {
   "cell_type": "markdown",
   "id": "db238de6",
   "metadata": {
    "papermill": {
     "duration": 0.017007,
     "end_time": "2024-04-04T17:59:56.137097",
     "exception": false,
     "start_time": "2024-04-04T17:59:56.120090",
     "status": "completed"
    },
    "tags": []
   },
   "source": [
    "## Optimize XGBoost Regressor"
   ]
  },
  {
   "cell_type": "code",
   "execution_count": null,
   "id": "188b09b0",
   "metadata": {
    "execution": {
     "iopub.execute_input": "2024-04-04T17:59:56.173733Z",
     "iopub.status.busy": "2024-04-04T17:59:56.172866Z",
     "iopub.status.idle": "2024-04-04T18:35:31.034764Z",
     "shell.execute_reply": "2024-04-04T18:35:31.033835Z"
    },
    "papermill": {
     "duration": 2134.88292,
     "end_time": "2024-04-04T18:35:31.036860",
     "exception": false,
     "start_time": "2024-04-04T17:59:56.153940",
     "status": "completed"
    },
    "tags": []
   },
   "outputs": [],
   "source": [
    "def objective(trial):\n",
    "    param = {\n",
    "        'verbosity': 0,\n",
    "        'objective': 'reg:squarederror',\n",
    "        'eval_metric': 'rmse',\n",
    "        'booster': 'gbtree',\n",
    "        'learning_rate': trial.suggest_float('learning_rate', 0.01, 0.3),\n",
    "        'n_estimators': trial.suggest_int('n_estimators', 100, 1000),\n",
    "        'max_depth': trial.suggest_int('max_depth', 3, 20),\n",
    "        'min_child_weight': trial.suggest_int('min_child_weight', 1, 300),\n",
    "        'subsample': trial.suggest_float('subsample', 0.5, 1.0),\n",
    "        'colsample_bytree': trial.suggest_float('colsample_bytree', 0.5, 1.0),\n",
    "        'reg_alpha': trial.suggest_loguniform('reg_alpha', 1e-8, 10.0),\n",
    "        'reg_lambda': trial.suggest_loguniform('reg_lambda', 1e-8, 10.0),\n",
    "    }\n",
    "    \n",
    "    # Train XGBoost model\n",
    "    model = xgb.XGBRegressor(**param)\n",
    "    model.fit(X_train, y_train, eval_set=[(X_test, y_test)], early_stopping_rounds=100, verbose=False)\n",
    "    \n",
    "    preds = model.predict(X_test)\n",
    "    \n",
    "    # Calculate and return RMSLE\n",
    "    return rmsle(y_test, preds)\n",
    "\n",
    "# Create a study object and specify the direction as 'minimize'\n",
    "study = optuna.create_study(direction='minimize')\n",
    "study.optimize(objective, n_trials=N_TRIALS)\n",
    "\n",
    "output = output + \"XGBoosts Model with \" + str(study.best_trial.value) + \"\\n\"\n",
    "output = output + \"Best hyperparameters:\" + str(study.best_params) + \"\\n\""
   ]
  },
  {
   "cell_type": "markdown",
   "id": "8d56c538",
   "metadata": {
    "papermill": {
     "duration": 0.056286,
     "end_time": "2024-04-04T18:35:31.149853",
     "exception": false,
     "start_time": "2024-04-04T18:35:31.093567",
     "status": "completed"
    },
    "tags": []
   },
   "source": [
    "## Optimize CatBoost Regressor"
   ]
  },
  {
   "cell_type": "code",
   "execution_count": null,
   "id": "bda15a6e",
   "metadata": {
    "execution": {
     "iopub.execute_input": "2024-04-04T18:35:31.266151Z",
     "iopub.status.busy": "2024-04-04T18:35:31.265508Z",
     "iopub.status.idle": "2024-04-04T19:12:14.169438Z",
     "shell.execute_reply": "2024-04-04T19:12:14.168511Z"
    },
    "papermill": {
     "duration": 2202.96448,
     "end_time": "2024-04-04T19:12:14.171753",
     "exception": false,
     "start_time": "2024-04-04T18:35:31.207273",
     "status": "completed"
    },
    "tags": []
   },
   "outputs": [],
   "source": [
    "def objective(trial):\n",
    "    params = {\n",
    "        'loss_function': 'RMSE',\n",
    "        'eval_metric': 'RMSE',\n",
    "        'learning_rate': trial.suggest_float('learning_rate', 0.01, 0.3),\n",
    "        'n_estimators': trial.suggest_int('n_estimators', 100, 1000),\n",
    "        'max_depth': trial.suggest_int('max_depth', 3, 16),\n",
    "        'l2_leaf_reg': trial.suggest_loguniform('l2_leaf_reg', 1e-8, 10.0),\n",
    "        'random_strength': trial.suggest_loguniform('random_strength', 1e-8, 10.0),\n",
    "        'bootstrap_type': trial.suggest_categorical('bootstrap_type', ['Bayesian', 'Bernoulli', 'MVS']),  # Excluded 'Poisson'\n",
    "    }\n",
    "    \n",
    "    if params['bootstrap_type'] == 'Bernoulli':\n",
    "        params['subsample'] = trial.suggest_float('subsample', 0.1, 1)\n",
    "    \n",
    "    # Initialize and train CatBoost model\n",
    "    model = cb.CatBoostRegressor(**params, verbose=0)\n",
    "    model.fit(X_train, y_train, eval_set=[(X_test, y_test)], early_stopping_rounds=100)\n",
    "    \n",
    "    preds = model.predict(X_test)\n",
    "    \n",
    "    # Calculate and return RMSLE\n",
    "    return rmsle(y_test, preds)\n",
    "\n",
    "# Create a study object and specify the direction as 'minimize'\n",
    "study = optuna.create_study(direction='minimize')\n",
    "study.optimize(objective, n_trials=N_TRIALS)\n",
    "\n",
    "output = output + \"CatBoost Model with \" + str(study.best_trial.value) + \"\\n\"\n",
    "output = output + \"Best hyperparameters:\" + str(study.best_params) + \"\\n\""
   ]
  },
  {
   "cell_type": "markdown",
   "id": "ad719f7a",
   "metadata": {
    "papermill": {
     "duration": 0.0842,
     "end_time": "2024-04-04T19:12:14.340471",
     "exception": false,
     "start_time": "2024-04-04T19:12:14.256271",
     "status": "completed"
    },
    "tags": []
   },
   "source": [
    "## Optimize Random Forest"
   ]
  },
  {
   "cell_type": "code",
   "execution_count": null,
   "id": "87458b8f",
   "metadata": {
    "execution": {
     "iopub.execute_input": "2024-04-04T19:12:14.511346Z",
     "iopub.status.busy": "2024-04-04T19:12:14.510706Z",
     "iopub.status.idle": "2024-04-05T00:17:53.386875Z",
     "shell.execute_reply": "2024-04-05T00:17:53.385817Z"
    },
    "papermill": {
     "duration": 18339.061534,
     "end_time": "2024-04-05T00:17:53.486054",
     "exception": false,
     "start_time": "2024-04-04T19:12:14.424520",
     "status": "completed"
    },
    "tags": []
   },
   "outputs": [],
   "source": [
    "def objective(trial):\n",
    "    # Suggest values for the hyperparameters\n",
    "    n_estimators = trial.suggest_int('n_estimators', 10, 500)\n",
    "    max_depth = trial.suggest_int('max_depth', 2, 32)\n",
    "    min_samples_split = trial.suggest_int('min_samples_split', 2, 100)\n",
    "    min_samples_leaf = trial.suggest_int('min_samples_leaf', 1, 50)\n",
    "\n",
    "    # Create and train the model\n",
    "    model = RandomForestRegressor(n_estimators=n_estimators, max_depth=max_depth,\n",
    "                                  min_samples_split=min_samples_split, min_samples_leaf=min_samples_leaf,\n",
    "                                  random_state=42)\n",
    "    model.fit(X_train, y_train)\n",
    "    preds = model.predict(X_test)\n",
    "    return rmsle(y_test, preds)\n",
    "\n",
    "study = optuna.create_study(direction='minimize')\n",
    "study.optimize(objective, n_trials=N_TRIALS)\n",
    "\n",
    "output = output + \"RF Model with \" + str(study.best_trial.value) + \"\\n\"\n",
    "output = output + \"Best hyperparameters:\" + str(study.best_params) + \"\\n\""
   ]
  },
  {
   "cell_type": "markdown",
   "id": "cf83cb02",
   "metadata": {
    "papermill": {
     "duration": 0.096797,
     "end_time": "2024-04-05T00:17:53.679087",
     "exception": false,
     "start_time": "2024-04-05T00:17:53.582290",
     "status": "completed"
    },
    "tags": []
   },
   "source": [
    "## Optimize Nearest Neighbor"
   ]
  },
  {
   "cell_type": "code",
   "execution_count": null,
   "id": "3f655239",
   "metadata": {
    "execution": {
     "iopub.execute_input": "2024-04-05T00:17:53.872747Z",
     "iopub.status.busy": "2024-04-05T00:17:53.872384Z",
     "iopub.status.idle": "2024-04-05T00:31:51.707737Z",
     "shell.execute_reply": "2024-04-05T00:31:51.706988Z"
    },
    "papermill": {
     "duration": 838.041963,
     "end_time": "2024-04-05T00:31:51.817002",
     "exception": false,
     "start_time": "2024-04-05T00:17:53.775039",
     "status": "completed"
    },
    "tags": []
   },
   "outputs": [],
   "source": [
    "def objective(trial):\n",
    "    # Data scaling\n",
    "    scaler = StandardScaler()\n",
    "    X_train_scaled = scaler.fit_transform(X_train)\n",
    "    X_test_scaled = scaler.transform(X_test)\n",
    "\n",
    "    # Suggest values for the hyperparameters\n",
    "    n_neighbors = trial.suggest_int('n_neighbors', 1, 30)\n",
    "    weights = trial.suggest_categorical('weights', ['uniform', 'distance'])\n",
    "    metric = trial.suggest_categorical('metric', ['euclidean', 'manhattan', 'minkowski'])\n",
    "\n",
    "    # Initialize and train the KNN regressor\n",
    "    model = KNeighborsRegressor(n_neighbors=n_neighbors, weights=weights, metric=metric)\n",
    "    model.fit(X_train_scaled, y_train)\n",
    "    preds = model.predict(X_test_scaled)\n",
    "    \n",
    "    return rmsle(y_test, preds)\n",
    "\n",
    "study = optuna.create_study(direction='minimize')\n",
    "study.optimize(objective, n_trials=N_TRIALS)\n",
    "\n",
    "output = output + \"KNN Model with \" + str(study.best_trial.value) + \"\\n\"\n",
    "output = output + \"Best hyperparameters:\" + str(study.best_params) + \"\\n\""
   ]
  },
  {
   "cell_type": "markdown",
   "id": "de60d9ee",
   "metadata": {
    "papermill": {
     "duration": 0.10896,
     "end_time": "2024-04-05T00:31:52.035047",
     "exception": false,
     "start_time": "2024-04-05T00:31:51.926087",
     "status": "completed"
    },
    "tags": []
   },
   "source": [
    "## Save the best parameters"
   ]
  },
  {
   "cell_type": "code",
   "execution_count": null,
   "id": "773f9a06",
   "metadata": {
    "execution": {
     "iopub.execute_input": "2024-04-05T00:31:52.256868Z",
     "iopub.status.busy": "2024-04-05T00:31:52.256308Z",
     "iopub.status.idle": "2024-04-05T00:31:52.260573Z",
     "shell.execute_reply": "2024-04-05T00:31:52.259779Z"
    },
    "papermill": {
     "duration": 0.117358,
     "end_time": "2024-04-05T00:31:52.262618",
     "exception": false,
     "start_time": "2024-04-05T00:31:52.145260",
     "status": "completed"
    },
    "tags": []
   },
   "outputs": [],
   "source": [
    "with open(\"hyperparameters.txt\",\"w\") as file:\n",
    "  file.write(output)"
   ]
  }
 ],
 "metadata": {
  "kaggle": {
   "accelerator": "none",
   "dataSources": [
    {
     "databundleVersionId": 8096274,
     "sourceId": 72489,
     "sourceType": "competition"
    },
    {
     "datasetId": 4712358,
     "sourceId": 8013516,
     "sourceType": "datasetVersion"
    }
   ],
   "dockerImageVersionId": 30673,
   "isGpuEnabled": false,
   "isInternetEnabled": true,
   "language": "python",
   "sourceType": "notebook"
  },
  "kernelspec": {
   "display_name": "Python 3",
   "language": "python",
   "name": "python3"
  },
  "language_info": {
   "codemirror_mode": {
    "name": "ipython",
    "version": 3
   },
   "file_extension": ".py",
   "mimetype": "text/x-python",
   "name": "python",
   "nbconvert_exporter": "python",
   "pygments_lexer": "ipython3",
   "version": "3.10.12"
  },
  "papermill": {
   "default_parameters": {},
   "duration": 25735.647071,
   "end_time": "2024-04-05T00:31:53.234715",
   "environment_variables": {},
   "exception": null,
   "input_path": "__notebook__.ipynb",
   "output_path": "__notebook__.ipynb",
   "parameters": {},
   "start_time": "2024-04-04T17:22:57.587644",
   "version": "2.5.0"
  }
 },
 "nbformat": 4,
 "nbformat_minor": 5
}
