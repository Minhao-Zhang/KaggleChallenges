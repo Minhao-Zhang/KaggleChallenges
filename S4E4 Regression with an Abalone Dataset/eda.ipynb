{
 "cells": [
  {
   "cell_type": "markdown",
   "metadata": {},
   "source": [
    "# S4E4 Regression with an Abalone Dataset"
   ]
  },
  {
   "cell_type": "markdown",
   "metadata": {},
   "source": [
    "## Imports and Reading Data"
   ]
  },
  {
   "cell_type": "code",
   "execution_count": 26,
   "metadata": {},
   "outputs": [],
   "source": [
    "import numpy as np \n",
    "import pandas as pd \n",
    "import matplotlib.pyplot as plt \n",
    "from sklearn.model_selection import cross_val_score\n",
    "from sklearn.metrics import make_scorer"
   ]
  },
  {
   "cell_type": "code",
   "execution_count": 27,
   "metadata": {},
   "outputs": [
    {
     "data": {
      "text/html": [
       "<div>\n",
       "<style scoped>\n",
       "    .dataframe tbody tr th:only-of-type {\n",
       "        vertical-align: middle;\n",
       "    }\n",
       "\n",
       "    .dataframe tbody tr th {\n",
       "        vertical-align: top;\n",
       "    }\n",
       "\n",
       "    .dataframe thead th {\n",
       "        text-align: right;\n",
       "    }\n",
       "</style>\n",
       "<table border=\"1\" class=\"dataframe\">\n",
       "  <thead>\n",
       "    <tr style=\"text-align: right;\">\n",
       "      <th></th>\n",
       "      <th>Sex</th>\n",
       "      <th>Length</th>\n",
       "      <th>Diameter</th>\n",
       "      <th>Height</th>\n",
       "      <th>Whole weight</th>\n",
       "      <th>Whole weight.1</th>\n",
       "      <th>Whole weight.2</th>\n",
       "      <th>Shell weight</th>\n",
       "      <th>Rings</th>\n",
       "    </tr>\n",
       "    <tr>\n",
       "      <th>id</th>\n",
       "      <th></th>\n",
       "      <th></th>\n",
       "      <th></th>\n",
       "      <th></th>\n",
       "      <th></th>\n",
       "      <th></th>\n",
       "      <th></th>\n",
       "      <th></th>\n",
       "      <th></th>\n",
       "    </tr>\n",
       "  </thead>\n",
       "  <tbody>\n",
       "    <tr>\n",
       "      <th>0</th>\n",
       "      <td>F</td>\n",
       "      <td>0.550</td>\n",
       "      <td>0.430</td>\n",
       "      <td>0.150</td>\n",
       "      <td>0.7715</td>\n",
       "      <td>0.3285</td>\n",
       "      <td>0.1465</td>\n",
       "      <td>0.2400</td>\n",
       "      <td>11</td>\n",
       "    </tr>\n",
       "    <tr>\n",
       "      <th>1</th>\n",
       "      <td>F</td>\n",
       "      <td>0.630</td>\n",
       "      <td>0.490</td>\n",
       "      <td>0.145</td>\n",
       "      <td>1.1300</td>\n",
       "      <td>0.4580</td>\n",
       "      <td>0.2765</td>\n",
       "      <td>0.3200</td>\n",
       "      <td>11</td>\n",
       "    </tr>\n",
       "    <tr>\n",
       "      <th>2</th>\n",
       "      <td>I</td>\n",
       "      <td>0.160</td>\n",
       "      <td>0.110</td>\n",
       "      <td>0.025</td>\n",
       "      <td>0.0210</td>\n",
       "      <td>0.0055</td>\n",
       "      <td>0.0030</td>\n",
       "      <td>0.0050</td>\n",
       "      <td>6</td>\n",
       "    </tr>\n",
       "    <tr>\n",
       "      <th>3</th>\n",
       "      <td>M</td>\n",
       "      <td>0.595</td>\n",
       "      <td>0.475</td>\n",
       "      <td>0.150</td>\n",
       "      <td>0.9145</td>\n",
       "      <td>0.3755</td>\n",
       "      <td>0.2055</td>\n",
       "      <td>0.2500</td>\n",
       "      <td>10</td>\n",
       "    </tr>\n",
       "    <tr>\n",
       "      <th>4</th>\n",
       "      <td>I</td>\n",
       "      <td>0.555</td>\n",
       "      <td>0.425</td>\n",
       "      <td>0.130</td>\n",
       "      <td>0.7820</td>\n",
       "      <td>0.3695</td>\n",
       "      <td>0.1600</td>\n",
       "      <td>0.1975</td>\n",
       "      <td>9</td>\n",
       "    </tr>\n",
       "  </tbody>\n",
       "</table>\n",
       "</div>"
      ],
      "text/plain": [
       "   Sex  Length  Diameter  Height  Whole weight  Whole weight.1  \\\n",
       "id                                                               \n",
       "0    F   0.550     0.430   0.150        0.7715          0.3285   \n",
       "1    F   0.630     0.490   0.145        1.1300          0.4580   \n",
       "2    I   0.160     0.110   0.025        0.0210          0.0055   \n",
       "3    M   0.595     0.475   0.150        0.9145          0.3755   \n",
       "4    I   0.555     0.425   0.130        0.7820          0.3695   \n",
       "\n",
       "    Whole weight.2  Shell weight  Rings  \n",
       "id                                       \n",
       "0           0.1465        0.2400     11  \n",
       "1           0.2765        0.3200     11  \n",
       "2           0.0030        0.0050      6  \n",
       "3           0.2055        0.2500     10  \n",
       "4           0.1600        0.1975      9  "
      ]
     },
     "execution_count": 27,
     "metadata": {},
     "output_type": "execute_result"
    }
   ],
   "source": [
    "train = pd.read_csv('data/train.csv', index_col='id')\n",
    "test = pd.read_csv('data/test.csv', index_col='id')\n",
    "\n",
    "# original data from UCI Machine Learning Repository\n",
    "original_data = pd.read_csv('data/abalone.data')\n",
    "# give the columns names  \n",
    "original_data.columns = train.columns\n",
    "\n",
    "# combine two dataset into a new one \n",
    "new_train = pd.concat([train, original_data], axis=0)\n",
    "# rename the index column into id \n",
    "new_train.index.name = 'id'\n",
    "\n",
    "# save the new dataset\n",
    "new_train.to_csv('data/new_train.csv')\n",
    "\n",
    "new_train.head()"
   ]
  },
  {
   "cell_type": "markdown",
   "metadata": {},
   "source": [
    "## Feature Explanation\n",
    "\n",
    "The dataset contains 9 features and 1 target variable. The features are as follows \n",
    "- Sex: M, F, and I (infant) (Nominal)\n",
    "- Length: Longest shell measurement (mm)\n",
    "- Diameter: Perpendicular to length (mm)\n",
    "- Height: With meat in shell (mm)\n",
    "- Whole weight: Whole abalone (g)\n",
    "- Shucked weight: Weight of meat (g)\n",
    "- Viscera weight: Gut weight (after bleeding) (g)\n",
    "- Shell weight: After being dried (g)\n",
    "\n",
    "All but the first feature are continuous. We are given these information to predict the number of rings in the abalone. The number of rings is a proxy for the age of the abalone. \n",
    "\n",
    "- Rings: +1.5 gives the age in years\n",
    "\n",
    "\n",
    "This competition is evaluated using **Root Mean Squared Logarithmic Error** where \n",
    "\n",
    "$$\n",
    "\\sqrt{\\frac1n\\sum_{i=1}^{n}\\left(\\ln(1+\\hat y_i)-\\ln(1+y_i)\\right)^2}.\n",
    "$$\n",
    "\n"
   ]
  },
  {
   "cell_type": "markdown",
   "metadata": {},
   "source": [
    "## Basic EDA"
   ]
  },
  {
   "cell_type": "code",
   "execution_count": 28,
   "metadata": {},
   "outputs": [],
   "source": [
    "X = new_train.drop('Rings', axis=1) \n",
    "y = new_train['Rings']\n",
    "X_test = test "
   ]
  },
  {
   "cell_type": "code",
   "execution_count": 29,
   "metadata": {},
   "outputs": [
    {
     "data": {
      "text/html": [
       "<div>\n",
       "<style scoped>\n",
       "    .dataframe tbody tr th:only-of-type {\n",
       "        vertical-align: middle;\n",
       "    }\n",
       "\n",
       "    .dataframe tbody tr th {\n",
       "        vertical-align: top;\n",
       "    }\n",
       "\n",
       "    .dataframe thead th {\n",
       "        text-align: right;\n",
       "    }\n",
       "</style>\n",
       "<table border=\"1\" class=\"dataframe\">\n",
       "  <thead>\n",
       "    <tr style=\"text-align: right;\">\n",
       "      <th></th>\n",
       "      <th>Length</th>\n",
       "      <th>Diameter</th>\n",
       "      <th>Height</th>\n",
       "      <th>Whole weight</th>\n",
       "      <th>Whole weight.1</th>\n",
       "      <th>Whole weight.2</th>\n",
       "      <th>Shell weight</th>\n",
       "    </tr>\n",
       "  </thead>\n",
       "  <tbody>\n",
       "    <tr>\n",
       "      <th>count</th>\n",
       "      <td>94791.000000</td>\n",
       "      <td>94791.000000</td>\n",
       "      <td>94791.000000</td>\n",
       "      <td>94791.000000</td>\n",
       "      <td>94791.000000</td>\n",
       "      <td>94791.000000</td>\n",
       "      <td>94791.000000</td>\n",
       "    </tr>\n",
       "    <tr>\n",
       "      <th>mean</th>\n",
       "      <td>0.517403</td>\n",
       "      <td>0.401953</td>\n",
       "      <td>0.135643</td>\n",
       "      <td>0.790788</td>\n",
       "      <td>0.341598</td>\n",
       "      <td>0.169915</td>\n",
       "      <td>0.226469</td>\n",
       "    </tr>\n",
       "    <tr>\n",
       "      <th>std</th>\n",
       "      <td>0.118308</td>\n",
       "      <td>0.098088</td>\n",
       "      <td>0.038193</td>\n",
       "      <td>0.459233</td>\n",
       "      <td>0.205268</td>\n",
       "      <td>0.101334</td>\n",
       "      <td>0.130640</td>\n",
       "    </tr>\n",
       "    <tr>\n",
       "      <th>min</th>\n",
       "      <td>0.075000</td>\n",
       "      <td>0.055000</td>\n",
       "      <td>0.000000</td>\n",
       "      <td>0.002000</td>\n",
       "      <td>0.001000</td>\n",
       "      <td>0.000500</td>\n",
       "      <td>0.001500</td>\n",
       "    </tr>\n",
       "    <tr>\n",
       "      <th>25%</th>\n",
       "      <td>0.445000</td>\n",
       "      <td>0.345000</td>\n",
       "      <td>0.110000</td>\n",
       "      <td>0.419500</td>\n",
       "      <td>0.177500</td>\n",
       "      <td>0.086500</td>\n",
       "      <td>0.120000</td>\n",
       "    </tr>\n",
       "    <tr>\n",
       "      <th>50%</th>\n",
       "      <td>0.545000</td>\n",
       "      <td>0.425000</td>\n",
       "      <td>0.140000</td>\n",
       "      <td>0.799500</td>\n",
       "      <td>0.330000</td>\n",
       "      <td>0.166000</td>\n",
       "      <td>0.225000</td>\n",
       "    </tr>\n",
       "    <tr>\n",
       "      <th>75%</th>\n",
       "      <td>0.600000</td>\n",
       "      <td>0.470000</td>\n",
       "      <td>0.160000</td>\n",
       "      <td>1.072500</td>\n",
       "      <td>0.464500</td>\n",
       "      <td>0.233000</td>\n",
       "      <td>0.305000</td>\n",
       "    </tr>\n",
       "    <tr>\n",
       "      <th>max</th>\n",
       "      <td>0.815000</td>\n",
       "      <td>0.650000</td>\n",
       "      <td>1.130000</td>\n",
       "      <td>2.825500</td>\n",
       "      <td>1.488000</td>\n",
       "      <td>0.760000</td>\n",
       "      <td>1.005000</td>\n",
       "    </tr>\n",
       "  </tbody>\n",
       "</table>\n",
       "</div>"
      ],
      "text/plain": [
       "             Length      Diameter        Height  Whole weight  Whole weight.1  \\\n",
       "count  94791.000000  94791.000000  94791.000000  94791.000000    94791.000000   \n",
       "mean       0.517403      0.401953      0.135643      0.790788        0.341598   \n",
       "std        0.118308      0.098088      0.038193      0.459233        0.205268   \n",
       "min        0.075000      0.055000      0.000000      0.002000        0.001000   \n",
       "25%        0.445000      0.345000      0.110000      0.419500        0.177500   \n",
       "50%        0.545000      0.425000      0.140000      0.799500        0.330000   \n",
       "75%        0.600000      0.470000      0.160000      1.072500        0.464500   \n",
       "max        0.815000      0.650000      1.130000      2.825500        1.488000   \n",
       "\n",
       "       Whole weight.2  Shell weight  \n",
       "count    94791.000000  94791.000000  \n",
       "mean         0.169915      0.226469  \n",
       "std          0.101334      0.130640  \n",
       "min          0.000500      0.001500  \n",
       "25%          0.086500      0.120000  \n",
       "50%          0.166000      0.225000  \n",
       "75%          0.233000      0.305000  \n",
       "max          0.760000      1.005000  "
      ]
     },
     "execution_count": 29,
     "metadata": {},
     "output_type": "execute_result"
    }
   ],
   "source": [
    "X.describe()"
   ]
  },
  {
   "cell_type": "code",
   "execution_count": 30,
   "metadata": {},
   "outputs": [
    {
     "data": {
      "text/plain": [
       "count    94791.000000\n",
       "mean         9.707177\n",
       "std          3.178674\n",
       "min          1.000000\n",
       "25%          8.000000\n",
       "50%          9.000000\n",
       "75%         11.000000\n",
       "max         29.000000\n",
       "Name: Rings, dtype: float64"
      ]
     },
     "execution_count": 30,
     "metadata": {},
     "output_type": "execute_result"
    }
   ],
   "source": [
    "y.describe()"
   ]
  },
  {
   "cell_type": "code",
   "execution_count": 31,
   "metadata": {},
   "outputs": [
    {
     "name": "stdout",
     "output_type": "stream",
     "text": [
      "===Check for missing values===\n",
      "Sex               0\n",
      "Length            0\n",
      "Diameter          0\n",
      "Height            0\n",
      "Whole weight      0\n",
      "Whole weight.1    0\n",
      "Whole weight.2    0\n",
      "Shell weight      0\n",
      "dtype: int64\n",
      "Sex               0\n",
      "Length            0\n",
      "Diameter          0\n",
      "Height            0\n",
      "Whole weight      0\n",
      "Whole weight.1    0\n",
      "Whole weight.2    0\n",
      "Shell weight      0\n",
      "dtype: int64\n",
      "===Check for duplicated values===\n",
      "285\n",
      "0\n"
     ]
    }
   ],
   "source": [
    "# check null values\n",
    "print(\"===Check for missing values===\")\n",
    "print(X.isnull().sum()) \n",
    "print(X_test.isnull().sum())\n",
    "# check duplicated values\n",
    "print(\"===Check for duplicated values===\")\n",
    "print(X.duplicated().sum())\n",
    "print(X_test.duplicated().sum())"
   ]
  },
  {
   "cell_type": "code",
   "execution_count": 32,
   "metadata": {},
   "outputs": [
    {
     "data": {
      "text/plain": [
       "array([[<Axes: title={'center': 'Length'}>,\n",
       "        <Axes: title={'center': 'Diameter'}>,\n",
       "        <Axes: title={'center': 'Height'}>],\n",
       "       [<Axes: title={'center': 'Whole weight'}>,\n",
       "        <Axes: title={'center': 'Whole weight.1'}>,\n",
       "        <Axes: title={'center': 'Whole weight.2'}>],\n",
       "       [<Axes: title={'center': 'Shell weight'}>, <Axes: >, <Axes: >]],\n",
       "      dtype=object)"
      ]
     },
     "execution_count": 32,
     "metadata": {},
     "output_type": "execute_result"
    },
    {
     "data": {
      "image/png": "[encoded data removed]",
      "text/plain": [
       "<Figure size 2000x1500 with 9 Axes>"
      ]
     },
     "metadata": {},
     "output_type": "display_data"
    }
   ],
   "source": [
    "# plot histogram for each feature\n",
    "X.hist(bins=50, figsize=(20,15))"
   ]
  },
  {
   "cell_type": "code",
   "execution_count": 33,
   "metadata": {},
   "outputs": [
    {
     "data": {
      "text/plain": [
       "<Axes: >"
      ]
     },
     "execution_count": 33,
     "metadata": {},
     "output_type": "execute_result"
    },
    {
     "data": {
      "image/png": "[encoded data removed]",
      "text/plain": [
       "<Figure size 1000x500 with 1 Axes>"
      ]
     },
     "metadata": {},
     "output_type": "display_data"
    }
   ],
   "source": [
    "y.hist(bins=50, figsize=(10,5))"
   ]
  },
  {
   "cell_type": "code",
   "execution_count": 34,
   "metadata": {},
   "outputs": [
    {
     "data": {
      "text/plain": [
       "Sex\n",
       "I    34435\n",
       "M    32554\n",
       "F    27802\n",
       "Name: count, dtype: int64"
      ]
     },
     "execution_count": 34,
     "metadata": {},
     "output_type": "execute_result"
    }
   ],
   "source": [
    "# count the frequency of categorical features \n",
    "X['Sex'].value_counts()\n"
   ]
  },
  {
   "cell_type": "markdown",
   "metadata": {},
   "source": [
    "## Feature Engineering"
   ]
  },
  {
   "cell_type": "code",
   "execution_count": 35,
   "metadata": {},
   "outputs": [],
   "source": [
    "# # assuming the abalone is oval, we can calculate the area of the abalone \n",
    "# # the formula for the area of an oval is A = π * a * b\n",
    "# new_X['Area'] = np.pi * new_X['Diameter'] * new_X['Length'] \n",
    "new_X_test = X_test.copy()\n",
    "# new_X_test['Area'] = np.pi * new_X_test['Diameter'] * new_X_test['Length']\n"
   ]
  },
  {
   "cell_type": "code",
   "execution_count": 36,
   "metadata": {},
   "outputs": [],
   "source": [
    "# one hot encoding for train and test \n",
    "# X = pd.get_dummies(X)\n",
    "# X_test = pd.get_dummies(X_test)\n",
    "# new_X = pd.get_dummies(new_X)\n",
    "# new_X_test = pd.get_dummies(new_X_test)\n",
    "\n",
    "\n",
    "# new_data = pd.read_csv('data/feature_reduced_new_train.csv', index_col='id')\n",
    "# X = new_data.drop('Rings', axis=1)\n",
    "# y = new_data['Rings']\n",
    "# X_test = pd.read_csv('data/feature_test.csv', index_col='id')\n",
    "\n",
    "X = pd.get_dummies(X)\n",
    "X_test = pd.get_dummies(X_test)"
   ]
  },
  {
   "cell_type": "markdown",
   "metadata": {},
   "source": [
    "## Simple Regression Baselines"
   ]
  },
  {
   "cell_type": "code",
   "execution_count": 37,
   "metadata": {},
   "outputs": [],
   "source": [
    "def rmsle(y_true, y_pred):\n",
    "    # # parse the prediciton into int \n",
    "    # y_pred = np.round(y_pred)\n",
    "    return np.sqrt(np.mean(np.square(np.log1p(y_pred) - np.log1p(y_true))))\n",
    "\n",
    "rmsle_scorer = make_scorer(rmsle, greater_is_better=False)\n"
   ]
  },
  {
   "cell_type": "code",
   "execution_count": 38,
   "metadata": {},
   "outputs": [],
   "source": [
    "# split the data into training and validation set\n",
    "from sklearn.preprocessing import StandardScaler\n",
    "from sklearn.linear_model import LinearRegression\n",
    "\n",
    "# standardize the data\n",
    "scaler = StandardScaler()\n",
    "X_scaled = scaler.fit_transform(X)\n",
    "X_test_scaled = scaler.transform(X_test)\n",
    "\n",
    "# train a linear regression model \n",
    "# model = LinearRegression()\n",
    "# scores = cross_val_score(model, X_scaled, y, cv=10, scoring=rmsle_scorer)\n",
    "# print(\"RMSLE: %0.4f (+/- %0.4f)\" % (-scores.mean(), scores.std() * 2))\n",
    "\n",
    "# RMSLE: 0.1651 (+/- 0.0060)\n",
    "# RMSLE: 0.1656 (+/- 0.0109)\n"
   ]
  },
  {
   "cell_type": "code",
   "execution_count": 39,
   "metadata": {},
   "outputs": [],
   "source": [
    "# train a Elastic Net model\n",
    "from sklearn.linear_model import ElasticNet\n",
    "\n",
    "# model = ElasticNet(alpha=0.1, l1_ratio=0.5)\n",
    "# scores = cross_val_score(model, X_scaled, y, cv=10, scoring=rmsle_scorer)\n",
    "# print(\"RMSLE: %0.4f (+/- %0.4f)\" % (-scores.mean(), scores.std() * 2))\n",
    "\n",
    "# RMSLE: NA \n",
    "# RMSLE: 0.1685 (+/- 0.0050)"
   ]
  },
  {
   "cell_type": "code",
   "execution_count": 40,
   "metadata": {},
   "outputs": [],
   "source": [
    "# train a random forest model \n",
    "from sklearn.ensemble import RandomForestRegressor\n",
    "\n",
    "# model = RandomForestRegressor(n_estimators=100, random_state=42) \n",
    "# scores = cross_val_score(model, X_scaled, y, cv=10, scoring=rmsle_scorer)\n",
    "# print(\"RMSLE: %0.4f (+/- %0.4f)\" % (-scores.mean(), scores.std() * 2))\n",
    "\n",
    "# RMSLE: 0.1547 (+/- 0.0053)\n",
    "# RMSLE: 0.1533 (+/- 0.0053)"
   ]
  },
  {
   "cell_type": "code",
   "execution_count": 41,
   "metadata": {},
   "outputs": [],
   "source": [
    "# train a gradient boosting model \n",
    "from sklearn.ensemble import GradientBoostingRegressor\n",
    "\n",
    "# model = GradientBoostingRegressor(n_estimators=100, random_state=42)\n",
    "# scores = cross_val_score(model, X_scaled, y, cv=10, scoring=rmsle_scorer)\n",
    "# print(\"RMSLE: %0.4f (+/- %0.4f)\" % (-scores.mean(), scores.std() * 2))\n",
    "\n",
    "# RMSLE: 0.1538 (+/- 0.0064)\n",
    "# RMSLE: 0.1526 (+/- 0.0062)"
   ]
  },
  {
   "cell_type": "code",
   "execution_count": 42,
   "metadata": {},
   "outputs": [],
   "source": [
    "# train a XGBoost model \n",
    "import xgboost as xgb\n",
    "\n",
    "# model = xgb.XGBRegressor(n_estimators=100, random_state=42)\n",
    "# scores = cross_val_score(model, X_scaled, y, cv=10, scoring=rmsle_scorer)\n",
    "# print(\"RMSLE: %0.4f (+/- %0.4f)\" % (-scores.mean(), scores.std() * 2))\n",
    "\n",
    "# RMSLE: 0.1507 (+/- 0.0059)\n",
    "# RMSLE: 0.1494 (+/- 0.0058)"
   ]
  },
  {
   "cell_type": "code",
   "execution_count": 43,
   "metadata": {},
   "outputs": [],
   "source": [
    "# train a LightGBM model \n",
    "import lightgbm as lgb\n",
    "\n",
    "# model = lgb.LGBMRegressor(n_estimators=100, random_state=42, verbose=-1)\n",
    "# scores = cross_val_score(model, X_scaled, y, cv=10, scoring=rmsle_scorer)\n",
    "# print(\"RMSLE: %0.4f (+/- %0.4f)\" % (-scores.mean(), scores.std() * 2))\n",
    "\n",
    "# RMSLE: 0.1511 (+/- 0.0064)\n",
    "# RMSLE: 0.1498 (+/- 0.0060)"
   ]
  },
  {
   "cell_type": "code",
   "execution_count": 44,
   "metadata": {},
   "outputs": [],
   "source": [
    "# train a catboost model \n",
    "from catboost import CatBoostRegressor\n",
    "\n",
    "# model = CatBoostRegressor(n_estimators=100, random_state=42, verbose=0)\n",
    "# scores = cross_val_score(model, X_scaled, y, cv=10, scoring=rmsle_scorer)\n",
    "# print(\"RMSLE: %0.4f (+/- %0.4f)\" % (-scores.mean(), scores.std() * 2))\n",
    "\n",
    "# RMSLE: 0.1519 (+/- 0.0058)\n",
    "# RMSLE: 0.1505 (+/- 0.0059)"
   ]
  },
  {
   "cell_type": "code",
   "execution_count": 45,
   "metadata": {},
   "outputs": [],
   "source": [
    "# train a Bayesian Ridge model \n",
    "from sklearn.linear_model import BayesianRidge\n",
    "\n",
    "# model = BayesianRidge()\n",
    "# scores = cross_val_score(model, X_scaled, y, cv=10, scoring=rmsle_scorer)\n",
    "# print(\"RMSLE: %0.4f (+/- %0.4f)\" % (-scores.mean(), scores.std() * 2))\n",
    "\n",
    "# RMSLE: NA\n",
    "# RMSLE: 0.1673 (+/- 0.0108)"
   ]
  },
  {
   "cell_type": "code",
   "execution_count": 46,
   "metadata": {},
   "outputs": [],
   "source": [
    "# onehot encode new_X \n",
    "# new_X = pd.get_dummies(new_X)\n",
    "# new_X_test = pd.get_dummies(new_X_test)\n",
    "# scaler = StandardScaler()\n",
    "# new_X_scaled = scaler.fit_transform(new_X)\n",
    "# new_X_test_scaled = scaler.transform(new_X_test)\n",
    "\n",
    "# model = xgb.XGBRegressor(n_estimators=100, random_state=42)\n",
    "# # scores = cross_val_score(model, new_X_scaled, new_y, cv=10, scoring=rmsle_scorer)\n",
    "# # print(\"RMSLE: %0.4f (+/- %0.4f)\" % (-scores.mean(), scores.std() * 2))\n",
    "\n",
    "# model.fit(new_X_scaled, new_y)\n",
    "# prediction = model.predict(new_X_test_scaled)\n",
    "# submission = pd.DataFrame({'id': X_test.index, 'Rings': prediction})\n",
    "# submission.to_csv('submissions/xgb2.csv', index=False)"
   ]
  },
  {
   "cell_type": "code",
   "execution_count": 47,
   "metadata": {},
   "outputs": [],
   "source": [
    "# [I 2024-04-02 03:52:46,100] Trial 263 finished with value: 0.1493274514018394 \n",
    "# and parameters: {'model': 'lightgbm', 'n_estimators': 360, \n",
    "# 'max_depth': 14, 'learning_rate': 0.02002177841890934, \n",
    "# 'subsample': 0.7312027119141618, 'colsample_bytree': 0.6574736218784601, \n",
    "# 'min_child_weight': 48, 'num_leaves': 180}. Best is trial 263 with value: 0.1493274514018394.\n",
    "\n",
    "# scaler = StandardScaler()\n",
    "# X_scaled = scaler.fit_transform(X)\n",
    "# X_test_scaled = scaler.transform(X_test)\n",
    "\n",
    "# scaler = StandardScaler()\n",
    "# new_X_scaled = scaler.fit_transform(new_X)\n",
    "# new_X_test_scaled = scaler.transform(new_X_test)\n",
    "\n",
    "# model = lgb.LGBMRegressor(n_estimators=360, max_depth=14, learning_rate=0.02002177841890934, \n",
    "#                           subsample=0.7312027119141618, colsample_bytree=0.6574736218784601, \n",
    "#                           min_child_weight=48, num_leaves=180, random_state=42, verbose=-1)\n",
    "\n",
    "# scores = cross_val_score(model, X_scaled, y, cv=10, scoring=rmsle_scorer)\n",
    "# print(\"RMSLE: %0.4f (+/- %0.4f)\" % (-scores.mean(), scores.std() * 2))\n",
    "# print(\"===================================================================================\")\n",
    "# model = lgb.LGBMRegressor(n_estimators=360, max_depth=14, learning_rate=0.02002177841890934, \n",
    "#                           subsample=0.7312027119141618, colsample_bytree=0.6574736218784601, \n",
    "#                           min_child_weight=48, num_leaves=180, random_state=42, verbose=-1)\n",
    "\n",
    "# scores = cross_val_score(model, new_X_scaled, y, cv=10, scoring=rmsle_scorer)\n",
    "# print(\"RMSLE: %0.4f (+/- %0.4f)\" % (-scores.mean(), scores.std() * 2))"
   ]
  },
  {
   "cell_type": "code",
   "execution_count": 48,
   "metadata": {},
   "outputs": [],
   "source": [
    "# # Best hyperparameters: {learning_rate=0.03910859789345321, n_estimators=646, max_depth=12, num_leaves=67, min_child_samples=74, subsample=0.566329687583204, colsample_bytree=0.7602133400888581}\n",
    "# # Best hyperparameters: {learning_rate=0.02492276744603994, n_estimators=996, max_depth=8, min_child_weight=55, subsample=0.782986738013056, colsample_bytree=0.7416692551365455, reg_alpha=5.961291913968475e-08, 'reg_lambda': 2.8696931261494965}\n",
    "# # Best hyperparameters: {learning_rate=0.11561172407978663, n_estimators=947, max_depth=7, l2_leaf_reg=18025801884692956=random_strength=3.235569246611154e-08, bootstrap_type='MVS'}\n",
    "\n",
    "# new_data = pd.read_csv('data/reduced_new_train.csv', index_col='id')\n",
    "# test = pd.read_csv('data/test.csv', index_col='id')\n",
    "\n",
    "# X = new_data.drop('Rings', axis=1)\n",
    "# y = new_data['Rings']\n",
    "# X_test = test\n",
    "\n",
    "# X = pd.get_dummies(X)\n",
    "# X_test = pd.get_dummies(X_test)\n",
    "\n",
    "# lgbmodel = lgb.LGBMRegressor(learning_rate=0.03910859789345321, \n",
    "#                           n_estimators=646, max_depth=12, num_leaves=67, \n",
    "#                           min_child_samples=74, subsample=0.566329687583204, \n",
    "#                           colsample_bytree=0.7602133400888581, verbose=-1)\n",
    "\n",
    "# xgmodel = xgb.XGBRegressor(learning_rate=0.02492276744603994, \n",
    "#                           n_estimators=996, max_depth=8, min_child_weight=55, \n",
    "#                           subsample=0.782986738013056, colsample_bytree=0.7416692551365455, \n",
    "#                           reg_alpha=5.961291913968475e-08, reg_lambda=2.8696931261494965)\n",
    "\n",
    "# catmodel = CatBoostRegressor(learning_rate=0.11561172407978663,\n",
    "#                             n_estimators=947, max_depth=7, l2_leaf_reg=1.8025801884692956,\n",
    "#                             random_strength=3.235569246611154e-08, bootstrap_type='MVS')\n",
    "\n",
    "# lgbmodel.fit(X, y)\n",
    "# xgmodel.fit(X, y)\n",
    "# catmodel.fit(X, y)\n",
    "\n",
    "# lgb_pred = lgbmodel.predict(X_test)\n",
    "# xg_pred = xgmodel.predict(X_test)\n",
    "# cat_pred = catmodel.predict(X_test)\n",
    "\n",
    "# final_pred = (lgb_pred + xg_pred + cat_pred) / 3\n",
    "\n",
    "# submission = pd.DataFrame({'id': X_test.index, 'Rings': final_pred})\n",
    "# submission.to_csv('submissions/ensemble1.csv', index=False)"
   ]
  },
  {
   "cell_type": "code",
   "execution_count": 49,
   "metadata": {},
   "outputs": [
    {
     "name": "stderr",
     "output_type": "stream",
     "text": [
      "No path specified. Models will be saved in: \"AutogluonModels/ag-20240413_212905\"\n",
      "No presets specified! To achieve strong results with AutoGluon, it is recommended to use the available presets.\n",
      "\tRecommended Presets (For more details refer to https://auto.gluon.ai/stable/tutorials/tabular/tabular-essentials.html#presets):\n",
      "\tpresets='best_quality'   : Maximize accuracy. Default time_limit=3600.\n",
      "\tpresets='high_quality'   : Strong accuracy with fast inference speed. Default time_limit=3600.\n",
      "\tpresets='good_quality'   : Good accuracy with very fast inference speed. Default time_limit=3600.\n",
      "\tpresets='medium_quality' : Fast training time, ideal for initial prototyping.\n",
      "Beginning AutoGluon training ...\n",
      "AutoGluon will save models to \"AutogluonModels/ag-20240413_212905\"\n",
      "=================== System Info ===================\n",
      "AutoGluon Version:  1.0.0\n",
      "Python Version:     3.10.12\n",
      "Operating System:   Linux\n",
      "Platform Machine:   x86_64\n",
      "Platform Version:   #1 SMP Thu Oct 5 21:02:42 UTC 2023\n",
      "CPU Count:          16\n",
      "Memory Avail:       6.40 GB / 19.22 GB (33.3%)\n",
      "Disk Space Avail:   301.30 GB / 930.90 GB (32.4%)\n",
      "===================================================\n",
      "Train Data Rows:    94791\n",
      "Train Data Columns: 10\n",
      "Label Column:       Rings\n",
      "AutoGluon infers your prediction problem is: 'multiclass' (because dtype of label-column == int, but few unique label-values observed).\n",
      "\tFirst 10 (of 28) unique label values:  [11, 6, 10, 9, 4, 8, 15, 7, 12, 20]\n",
      "\tIf 'multiclass' is not the correct problem_type, please manually specify the problem_type parameter during predictor init (You may specify problem_type as one of: ['binary', 'multiclass', 'regression'])\n",
      "Problem Type:       multiclass\n",
      "Preprocessing data ...\n",
      "Train Data Class Count: 28\n",
      "Using Feature Generators to preprocess the data ...\n",
      "Fitting AutoMLPipelineFeatureGenerator...\n",
      "\tAvailable Memory:                    6563.30 MB\n",
      "\tTrain Data (Original)  Memory Usage: 5.33 MB (0.1% of available memory)\n",
      "\tInferring data type of each feature based on column values. Set feature_metadata_in to manually specify special dtypes of the features.\n",
      "\tStage 1 Generators:\n",
      "\t\tFitting AsTypeFeatureGenerator...\n",
      "\t\t\tNote: Converting 3 features to boolean dtype as they only contain 2 unique values.\n",
      "\tStage 2 Generators:\n",
      "\t\tFitting FillNaFeatureGenerator...\n",
      "\tStage 3 Generators:\n",
      "\t\tFitting IdentityFeatureGenerator...\n",
      "\tStage 4 Generators:\n",
      "\t\tFitting DropUniqueFeatureGenerator...\n",
      "\tStage 5 Generators:\n",
      "\t\tFitting DropDuplicatesFeatureGenerator...\n",
      "\tTypes of features in original data (raw dtype, special dtypes):\n",
      "\t\t('bool', [])  : 3 | ['Sex_F', 'Sex_I', 'Sex_M']\n",
      "\t\t('float', []) : 7 | ['Length', 'Diameter', 'Height', 'Whole weight', 'Whole weight.1', ...]\n",
      "\tTypes of features in processed data (raw dtype, special dtypes):\n",
      "\t\t('float', [])     : 7 | ['Length', 'Diameter', 'Height', 'Whole weight', 'Whole weight.1', ...]\n",
      "\t\t('int', ['bool']) : 3 | ['Sex_F', 'Sex_I', 'Sex_M']\n",
      "\t0.2s = Fit runtime\n",
      "\t10 features in original data used to generate 10 features in processed data.\n",
      "\tTrain Data (Processed) Memory Usage: 5.33 MB (0.1% of available memory)\n",
      "Data preprocessing and feature engineering runtime = 0.25s ...\n",
      "AutoGluon will gauge predictive performance using evaluation metric: 'accuracy'\n",
      "\tTo change this, specify the eval_metric parameter of Predictor()\n",
      "Automatically generating train/validation split with holdout_frac=0.026373811859775716, Train Rows: 92291, Val Rows: 2500\n",
      "User-specified model hyperparameters to be fit:\n",
      "{\n",
      "\t'NN_TORCH': {},\n",
      "\t'GBM': [{'extra_trees': True, 'ag_args': {'name_suffix': 'XT'}}, {}, 'GBMLarge'],\n",
      "\t'CAT': {},\n",
      "\t'XGB': {},\n",
      "\t'FASTAI': {},\n",
      "\t'RF': [{'criterion': 'gini', 'ag_args': {'name_suffix': 'Gini', 'problem_types': ['binary', 'multiclass']}}, {'criterion': 'entropy', 'ag_args': {'name_suffix': 'Entr', 'problem_types': ['binary', 'multiclass']}}, {'criterion': 'squared_error', 'ag_args': {'name_suffix': 'MSE', 'problem_types': ['regression', 'quantile']}}],\n",
      "\t'XT': [{'criterion': 'gini', 'ag_args': {'name_suffix': 'Gini', 'problem_types': ['binary', 'multiclass']}}, {'criterion': 'entropy', 'ag_args': {'name_suffix': 'Entr', 'problem_types': ['binary', 'multiclass']}}, {'criterion': 'squared_error', 'ag_args': {'name_suffix': 'MSE', 'problem_types': ['regression', 'quantile']}}],\n",
      "\t'KNN': [{'weights': 'uniform', 'ag_args': {'name_suffix': 'Unif'}}, {'weights': 'distance', 'ag_args': {'name_suffix': 'Dist'}}],\n",
      "}\n",
      "Fitting 13 L1 models ...\n",
      "Fitting model: KNeighborsUnif ...\n",
      "\t0.312\t = Validation score   (accuracy)\n",
      "\t0.18s\t = Training   runtime\n",
      "\t0.09s\t = Validation runtime\n",
      "Fitting model: KNeighborsDist ...\n",
      "\t0.3024\t = Validation score   (accuracy)\n",
      "\t0.18s\t = Training   runtime\n",
      "\t0.09s\t = Validation runtime\n",
      "Fitting model: NeuralNetFastAI ...\n",
      "\t0.3824\t = Validation score   (accuracy)\n",
      "\t110.01s\t = Training   runtime\n",
      "\t0.05s\t = Validation runtime\n",
      "Fitting model: LightGBMXT ...\n",
      "\t0.3708\t = Validation score   (accuracy)\n",
      "\t13.36s\t = Training   runtime\n",
      "\t0.14s\t = Validation runtime\n",
      "Fitting model: LightGBM ...\n",
      "\t0.37\t = Validation score   (accuracy)\n",
      "\t5.09s\t = Training   runtime\n",
      "\t0.02s\t = Validation runtime\n",
      "Fitting model: RandomForestGini ...\n",
      "\tWarning: Reducing model 'n_estimators' from 300 -> 120 due to low memory. Expected memory usage reduced from 37.48% -> 15.0% of available memory...\n",
      "\t0.3564\t = Validation score   (accuracy)\n",
      "\t4.25s\t = Training   runtime\n",
      "\t0.1s\t = Validation runtime\n",
      "Fitting model: RandomForestEntr ...\n",
      "\tWarning: Reducing model 'n_estimators' from 300 -> 121 due to low memory. Expected memory usage reduced from 37.15% -> 15.0% of available memory...\n",
      "\t0.3624\t = Validation score   (accuracy)\n",
      "\t5.48s\t = Training   runtime\n",
      "\t0.1s\t = Validation runtime\n",
      "Fitting model: CatBoost ...\n",
      "\t0.3868\t = Validation score   (accuracy)\n",
      "\t66.45s\t = Training   runtime\n",
      "\t0.01s\t = Validation runtime\n",
      "Fitting model: ExtraTreesGini ...\n",
      "\tWarning: Reducing model 'n_estimators' from 300 -> 115 due to low memory. Expected memory usage reduced from 39.03% -> 15.0% of available memory...\n",
      "\t0.3644\t = Validation score   (accuracy)\n",
      "\t2.44s\t = Training   runtime\n",
      "\t0.09s\t = Validation runtime\n",
      "Fitting model: ExtraTreesEntr ...\n",
      "\tWarning: Reducing model 'n_estimators' from 300 -> 115 due to low memory. Expected memory usage reduced from 38.97% -> 15.0% of available memory...\n",
      "\t0.3708\t = Validation score   (accuracy)\n",
      "\t2.68s\t = Training   runtime\n",
      "\t0.09s\t = Validation runtime\n",
      "Fitting model: XGBoost ...\n",
      "\t0.3764\t = Validation score   (accuracy)\n",
      "\t9.84s\t = Training   runtime\n",
      "\t0.02s\t = Validation runtime\n",
      "Fitting model: NeuralNetTorch ...\n",
      "\t0.3776\t = Validation score   (accuracy)\n",
      "\t162.66s\t = Training   runtime\n",
      "\t0.01s\t = Validation runtime\n",
      "Fitting model: LightGBMLarge ...\n",
      "\t0.3708\t = Validation score   (accuracy)\n",
      "\t17.28s\t = Training   runtime\n",
      "\t0.15s\t = Validation runtime\n",
      "Fitting model: WeightedEnsemble_L2 ...\n",
      "\tEnsemble Weights: {'CatBoost': 0.863, 'LightGBM': 0.078, 'NeuralNetFastAI': 0.02, 'LightGBMXT': 0.02, 'XGBoost': 0.02}\n",
      "\t0.3888\t = Validation score   (accuracy)\n",
      "\t2.39s\t = Training   runtime\n",
      "\t0.0s\t = Validation runtime\n",
      "AutoGluon training complete, total runtime = 411.79s ... Best model: \"WeightedEnsemble_L2\"\n",
      "TabularPredictor saved. To load, use: predictor = TabularPredictor.load(\"AutogluonModels/ag-20240413_212905\")\n"
     ]
    },
    {
     "ename": "AttributeError",
     "evalue": "'DataFrame' object has no attribute 'id'",
     "output_type": "error",
     "traceback": [
      "\u001b[0;31m---------------------------------------------------------------------------\u001b[0m",
      "\u001b[0;31mAttributeError\u001b[0m                            Traceback (most recent call last)",
      "\u001b[0;32m/tmp/ipykernel_1844/4189515778.py\u001b[0m in \u001b[0;36m?\u001b[0;34m()\u001b[0m\n\u001b[1;32m     10\u001b[0m \u001b[0mpredictor\u001b[0m \u001b[0;34m=\u001b[0m \u001b[0mTabularPredictor\u001b[0m\u001b[0;34m(\u001b[0m\u001b[0mlabel\u001b[0m\u001b[0;34m=\u001b[0m\u001b[0;34m'Rings'\u001b[0m\u001b[0;34m)\u001b[0m\u001b[0;34m.\u001b[0m\u001b[0mfit\u001b[0m\u001b[0;34m(\u001b[0m\u001b[0mX\u001b[0m\u001b[0;34m)\u001b[0m\u001b[0;34m\u001b[0m\u001b[0;34m\u001b[0m\u001b[0m\n\u001b[1;32m     11\u001b[0m \u001b[0mpredictor\u001b[0m\u001b[0;34m.\u001b[0m\u001b[0mleaderboard\u001b[0m\u001b[0;34m(\u001b[0m\u001b[0;34m)\u001b[0m\u001b[0;34m\u001b[0m\u001b[0;34m\u001b[0m\u001b[0m\n\u001b[1;32m     12\u001b[0m \u001b[0mpredictions\u001b[0m \u001b[0;34m=\u001b[0m \u001b[0mpredictor\u001b[0m\u001b[0;34m.\u001b[0m\u001b[0mpredict\u001b[0m\u001b[0;34m(\u001b[0m\u001b[0mX_test\u001b[0m\u001b[0;34m)\u001b[0m\u001b[0;34m\u001b[0m\u001b[0;34m\u001b[0m\u001b[0m\n\u001b[1;32m     13\u001b[0m \u001b[0;34m\u001b[0m\u001b[0m\n\u001b[0;32m---> 14\u001b[0;31m \u001b[0msubmission\u001b[0m \u001b[0;34m=\u001b[0m \u001b[0mpd\u001b[0m\u001b[0;34m.\u001b[0m\u001b[0mDataFrame\u001b[0m\u001b[0;34m(\u001b[0m\u001b[0;34m{\u001b[0m\u001b[0;34m'id'\u001b[0m\u001b[0;34m:\u001b[0m \u001b[0mX_test\u001b[0m\u001b[0;34m.\u001b[0m\u001b[0mid\u001b[0m\u001b[0;34m,\u001b[0m \u001b[0;34m'Rings'\u001b[0m\u001b[0;34m:\u001b[0m \u001b[0mpredictions\u001b[0m\u001b[0;34m}\u001b[0m\u001b[0;34m)\u001b[0m\u001b[0;34m\u001b[0m\u001b[0;34m\u001b[0m\u001b[0m\n\u001b[0m\u001b[1;32m     15\u001b[0m \u001b[0msubmission\u001b[0m\u001b[0;34m.\u001b[0m\u001b[0mto_csv\u001b[0m\u001b[0;34m(\u001b[0m\u001b[0;34m'submissions/autogluon2.csv'\u001b[0m\u001b[0;34m,\u001b[0m \u001b[0mindex\u001b[0m\u001b[0;34m=\u001b[0m\u001b[0;32mFalse\u001b[0m\u001b[0;34m)\u001b[0m\u001b[0;34m\u001b[0m\u001b[0;34m\u001b[0m\u001b[0m\n",
      "\u001b[0;32m/usr/local/lib/python3.10/dist-packages/pandas/core/generic.py\u001b[0m in \u001b[0;36m?\u001b[0;34m(self, name)\u001b[0m\n\u001b[1;32m   6200\u001b[0m             \u001b[0;32mand\u001b[0m \u001b[0mname\u001b[0m \u001b[0;32mnot\u001b[0m \u001b[0;32min\u001b[0m \u001b[0mself\u001b[0m\u001b[0;34m.\u001b[0m\u001b[0m_accessors\u001b[0m\u001b[0;34m\u001b[0m\u001b[0;34m\u001b[0m\u001b[0m\n\u001b[1;32m   6201\u001b[0m             \u001b[0;32mand\u001b[0m \u001b[0mself\u001b[0m\u001b[0;34m.\u001b[0m\u001b[0m_info_axis\u001b[0m\u001b[0;34m.\u001b[0m\u001b[0m_can_hold_identifiers_and_holds_name\u001b[0m\u001b[0;34m(\u001b[0m\u001b[0mname\u001b[0m\u001b[0;34m)\u001b[0m\u001b[0;34m\u001b[0m\u001b[0;34m\u001b[0m\u001b[0m\n\u001b[1;32m   6202\u001b[0m         ):\n\u001b[1;32m   6203\u001b[0m             \u001b[0;32mreturn\u001b[0m \u001b[0mself\u001b[0m\u001b[0;34m[\u001b[0m\u001b[0mname\u001b[0m\u001b[0;34m]\u001b[0m\u001b[0;34m\u001b[0m\u001b[0;34m\u001b[0m\u001b[0m\n\u001b[0;32m-> 6204\u001b[0;31m         \u001b[0;32mreturn\u001b[0m \u001b[0mobject\u001b[0m\u001b[0;34m.\u001b[0m\u001b[0m__getattribute__\u001b[0m\u001b[0;34m(\u001b[0m\u001b[0mself\u001b[0m\u001b[0;34m,\u001b[0m \u001b[0mname\u001b[0m\u001b[0;34m)\u001b[0m\u001b[0;34m\u001b[0m\u001b[0;34m\u001b[0m\u001b[0m\n\u001b[0m",
      "\u001b[0;31mAttributeError\u001b[0m: 'DataFrame' object has no attribute 'id'"
     ]
    }
   ],
   "source": [
    "# train autogluon model\n",
    "\n",
    "from autogluon.tabular import TabularPredictor\n",
    "\n",
    "data = pd.read_csv(\"data/new_train.csv\", index_col='id')\n",
    "test = pd.read_csv(\"data/test.csv\", index_col='id')\n",
    "X = pd.get_dummies(data)\n",
    "X_test = pd.get_dummies(test)\n",
    "\n",
    "predictor = TabularPredictor(label='Rings').fit(X)\n",
    "predictor.leaderboard()\n",
    "predictions = predictor.predict(X_test)\n",
    "\n",
    "submission = pd.DataFrame({'id': X_test.id, 'Rings': predictions})\n",
    "submission.to_csv('submissions/autogluon2.csv', index=False)\n"
   ]
  }
 ],
 "metadata": {
  "kernelspec": {
   "display_name": "Python 3",
   "language": "python",
   "name": "python3"
  },
  "language_info": {
   "codemirror_mode": {
    "name": "ipython",
    "version": 3
   },
   "file_extension": ".py",
   "mimetype": "text/x-python",
   "name": "python",
   "nbconvert_exporter": "python",
   "pygments_lexer": "ipython3",
   "version": "3.10.12"
  }
 },
 "nbformat": 4,
 "nbformat_minor": 2
}
